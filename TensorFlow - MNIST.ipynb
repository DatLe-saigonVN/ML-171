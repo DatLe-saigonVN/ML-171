{
 "cells": [
  {
   "cell_type": "code",
   "execution_count": 37,
   "metadata": {},
   "outputs": [],
   "source": [
    "import numpy as np\n",
    "import tensorflow as tf\n",
    "import tensorflow_datasets as tfds"
   ]
  },
  {
   "cell_type": "code",
   "execution_count": 38,
   "metadata": {},
   "outputs": [],
   "source": [
    "mnist_dataset, mnist_info = tfds.load(name='mnist', with_info=True, as_supervised=True)\n",
    "\n",
    "mnist_train, mnist_test = mnist_dataset['train'], mnist_dataset['test']\n",
    "\n",
    "num_validation_samples = 0.1 * mnist_info.splits['train'].num_examples\n",
    "num_validation_samples = tf.cast(num_validation_samples, tf.int64)\n",
    "\n",
    "num_test_samples = mnist_info.splits['test'].num_examples\n",
    "num_test_samples = tf.cast(num_test_samples, tf.int64)\n",
    "\n",
    "\n",
    "def scale(image, label):\n",
    "    image = tf.cast(image, tf.float32)\n",
    "    image /= 255.\n",
    "    return image, label\n",
    "\n",
    "scaled_train_and_validation_data = mnist_train.map(scale)\n",
    "\n",
    "test_data = mnist_test.map(scale)\n",
    "\n",
    "\n",
    "BUFFER_SIZE = 10000\n",
    "\n",
    "shuffled_train_and_validation_data = scaled_train_and_validation_data.shuffle(BUFFER_SIZE)\n",
    "\n",
    "validation_data = shuffled_train_and_validation_data.take(num_validation_samples)\n",
    "train_data = shuffled_train_and_validation_data.skip(num_validation_samples)\n",
    "\n",
    "\n",
    "BATCH_SIZE = 100\n",
    "\n",
    "train_data = train_data.batch(BATCH_SIZE)\n",
    "validation_data = validation_data.batch(num_validation_samples)\n",
    "test_data = test_data.batch(num_test_samples)\n",
    "\n",
    "validation_inputs, validation_targets = next(iter(validation_data))"
   ]
  },
  {
   "cell_type": "code",
   "execution_count": 59,
   "outputs": [],
   "source": [
    "# Define the create_model() function\n",
    "def create_model(hidden_layer_size, dropout_rate, learning_rate):\n",
    "    model = tf.keras.Sequential([\n",
    "        tf.keras.layers.Flatten(input_shape=(28, 28, 1)),\n",
    "        tf.keras.layers.Dense(hidden_layer_size, activation='relu'),\n",
    "        tf.keras.layers.Dropout(dropout_rate),\n",
    "        tf.keras.layers.Dense(10, activation='softmax')\n",
    "    ])\n",
    "    model.compile(optimizer=tf.keras.optimizers.Adam(learning_rate=learning_rate), loss='sparse_categorical_crossentropy', metrics=['accuracy'])\n",
    "    return model"
   ],
   "metadata": {
    "collapsed": false
   }
  },
  {
   "cell_type": "code",
   "execution_count": 60,
   "outputs": [],
   "source": [
    "# Define the hyperparameters to search over\n",
    "hidden_layer_sizes = [100, 200]\n",
    "dropout_rates = [0.2, 0.5]\n",
    "learning_rates = [0.001, 0.01]"
   ],
   "metadata": {
    "collapsed": false
   }
  },
  {
   "cell_type": "code",
   "execution_count": 61,
   "outputs": [],
   "source": [
    "# Define variables to store the best hyperparameters and resulting accuracy\n",
    "best_hidden_layer_size = None\n",
    "best_dropout_rate = None\n",
    "best_learning_rate = None\n",
    "best_accuracy = 0"
   ],
   "metadata": {
    "collapsed": false
   }
  },
  {
   "cell_type": "code",
   "execution_count": 64,
   "outputs": [
    {
     "name": "stdout",
     "output_type": "stream",
     "text": [
      "1/1 [==============================] - 0s 381ms/step - loss: 0.0695 - accuracy: 0.9809\n",
      "1/1 [==============================] - 0s 333ms/step - loss: 0.6756 - accuracy: 0.8401\n",
      "1/1 [==============================] - 0s 294ms/step - loss: 0.0869 - accuracy: 0.9769\n",
      "1/1 [==============================] - 0s 247ms/step - loss: 0.1837 - accuracy: 0.9595\n",
      "1/1 [==============================] - 0s 272ms/step - loss: 0.1419 - accuracy: 0.9606\n",
      "1/1 [==============================] - 0s 240ms/step - loss: 0.6759 - accuracy: 0.7525\n",
      "1/1 [==============================] - 0s 348ms/step - loss: 0.0869 - accuracy: 0.9806\n",
      "1/1 [==============================] - 0s 362ms/step - loss: 0.2805 - accuracy: 0.9343\n",
      "1/1 [==============================] - 0s 342ms/step - loss: 0.0751 - accuracy: 0.9808\n",
      "1/1 [==============================] - 0s 348ms/step - loss: 1.9267 - accuracy: 0.2282\n",
      "1/1 [==============================] - 0s 203ms/step - loss: 0.0878 - accuracy: 0.9779\n",
      "1/1 [==============================] - 0s 240ms/step - loss: 0.2075 - accuracy: 0.9598\n",
      "1/1 [==============================] - 0s 222ms/step - loss: 0.1291 - accuracy: 0.9664\n",
      "1/1 [==============================] - 0s 218ms/step - loss: 0.6880 - accuracy: 0.7752\n",
      "1/1 [==============================] - 0s 330ms/step - loss: 0.1104 - accuracy: 0.9825\n",
      "1/1 [==============================] - 0s 375ms/step - loss: 0.4770 - accuracy: 0.9225\n",
      "1/1 [==============================] - 0s 467ms/step - loss: 0.0681 - accuracy: 0.9843\n",
      "1/1 [==============================] - 0s 356ms/step - loss: 1.7504 - accuracy: 0.2785\n"
     ]
    }
   ],
   "source": [
    "# Perform a grid search over the hyperparameters\n",
    "for hidden_layer_size in hidden_layer_sizes:\n",
    "    for dropout_rate in dropout_rates:\n",
    "        for learning_rate in learning_rates:\n",
    "            # Create the model\n",
    "            model = create_model(hidden_layer_size, dropout_rate, learning_rate)\n",
    "            # Train the model\n",
    "            NUM_EPOCHS = 5\n",
    "            model.fit(train_data, epochs=NUM_EPOCHS, validation_data=(validation_inputs, validation_targets), validation_steps=10, verbose=0)\n",
    "            # Evaluate the model on the test data\n",
    "            test_loss, test_accuracy = model.evaluate(test_data)\n",
    "             # If the accuracy is better than the current best, update the best accuracy and the best hyperparameters\n",
    "            if test_accuracy > best_accuracy:\n",
    "                best_accuracy = test_accuracy\n",
    "                best_hidden_layer_size = hidden_layer_size\n",
    "                best_dropout_rate = dropout_rate\n",
    "                best_learning_rate = learning_rate\n"
   ],
   "metadata": {
    "collapsed": false
   }
  },
  {
   "cell_type": "code",
   "execution_count": 65,
   "metadata": {},
   "outputs": [
    {
     "name": "stdout",
     "output_type": "stream",
     "text": [
      "Best accuracy: 0.984000027179718\n",
      "Best hidden layer size: 500\n",
      "Best dropout rate: 0.2\n",
      "Best learning rate: 0.001\n",
      "Best accuracy: 0.9807999730110168\n",
      "Best hidden layer size: 500\n",
      "Best dropout rate: 0.5\n",
      "Best learning rate: 0.001\n",
      "Best accuracy: 0.9843000173568726\n",
      "Best hidden layer size: 500\n",
      "Best dropout rate: 0.5\n",
      "Best learning rate: 0.001\n"
     ]
    }
   ],
   "source": [
    "#Print the best hyperparameters and accuracy\n",
    "print('Best accuracy: {}'.format(best_accuracy))\n",
    "print('Best hidden layer size: {}'.format(best_hidden_layer_size))\n",
    "print('Best dropout rate: {}'.format(best_dropout_rate))\n",
    "print('Best learning rate: {}'.format(best_learning_rate))"
   ]
  },
  {
   "cell_type": "code",
   "execution_count": null,
   "outputs": [],
   "source": [],
   "metadata": {
    "collapsed": false,
    "pycharm": {
     "is_executing": true
    }
   }
  },
  {
   "cell_type": "code",
   "execution_count": 23,
   "outputs": [],
   "source": [],
   "metadata": {
    "collapsed": false
   }
  }
 ],
 "metadata": {
  "kernelspec": {
   "display_name": "Python 3 (ipykernel)",
   "language": "python",
   "name": "python3"
  },
  "language_info": {
   "codemirror_mode": {
    "name": "ipython",
    "version": 3
   },
   "file_extension": ".py",
   "mimetype": "text/x-python",
   "name": "python",
   "nbconvert_exporter": "python",
   "pygments_lexer": "ipython3",
   "version": "3.9.1"
  }
 },
 "nbformat": 4,
 "nbformat_minor": 2
}
